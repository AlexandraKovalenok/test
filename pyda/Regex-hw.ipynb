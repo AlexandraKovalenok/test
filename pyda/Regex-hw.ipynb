{
 "cells": [
  {
   "cell_type": "markdown",
   "metadata": {},
   "source": [
    "# Домашнее задание к лекции \"Регулярные выражения\"\n",
    "Для зачета необходимо выполнить 4 задания.  \n",
    "Для зачета с отличием – все."
   ]
  },
  {
   "cell_type": "code",
   "execution_count": 1,
   "metadata": {},
   "outputs": [],
   "source": [
    "import re"
   ]
  },
  {
   "cell_type": "markdown",
   "metadata": {},
   "source": [
    "## Задание 1"
   ]
  },
  {
   "cell_type": "markdown",
   "metadata": {},
   "source": [
    "Напишите функцию, которая принимает на вход строку и проверяет является ли она валидным транспортным номером. Если да, то функция должна возвращать отдельно номер и регион."
   ]
  },
  {
   "cell_type": "code",
   "execution_count": 1,
   "metadata": {},
   "outputs": [
    {
     "name": "stdout",
     "output_type": "stream",
     "text": [
      "Введите номер машины: A000AA25\n",
      "Неверный номер\n"
     ]
    }
   ],
   "source": [
    "\n",
    "def transport_valid():\n",
    "    user_line = input('Введите номер машины без пробелов: ')\n",
    "    if re.match('[А,В,Е,К,М,Н,О,Р,С,Т,У,Х]\\d{3}[А,В,Е,К,М,Н,О,Р,С,Т,У,Х]{2}\\d{2}$',user_line):\n",
    "        print('Номер: ' + str(re.findall(('\\d{3}'),user_line)) + '\\nРегион: ' + str(re.findall('(?<=[А,В,Е,К,М,Н,О,Р,С,Т,У,Х]{2})\\d{2}',user_line)))\n",
    "    else:\n",
    "        print('Неверный номер')\n",
    "transport_valid()"
   ]
  },
  {
   "cell_type": "markdown",
   "metadata": {},
   "source": [
    "## Задание 2"
   ]
  },
  {
   "cell_type": "markdown",
   "metadata": {},
   "source": [
    "Напишите функцию, которая проверяет e-mail адрес на валидность по стандарту RFC822: http://www.w3.org/Protocols/rfc822/. Для этого постарайтесь написать (в крайнем случае найти) самый полный шаблон для проверки e-mail адресов через регулярное выражение. Разберитесь и напишите примеры, какие ваш шаблон может не охватить."
   ]
  },
  {
   "cell_type": "code",
   "execution_count": 3,
   "metadata": {},
   "outputs": [
    {
     "name": "stdout",
     "output_type": "stream",
     "text": [
      "Введите email: alexandrakovalenok@gmail.com\n"
     ]
    },
    {
     "data": {
      "text/plain": [
       "'корректный email'"
      ]
     },
     "execution_count": 3,
     "metadata": {},
     "output_type": "execute_result"
    }
   ],
   "source": [
    "def check_email():\n",
    "    email = input('Введите email: ')\n",
    "    if re.match(r'[A-Za-z0-9\\$\\&\\-\\.\\>\\<\\_\\~]{4,}@([A-Za-z0-9-]{2,}\\.)+[a-z]{2,4}',email):\n",
    "        return 'корректный email'\n",
    "    else:\n",
    "        return 'некорректный email'\n",
    "check_email()"
   ]
  },
  {
   "cell_type": "markdown",
   "metadata": {},
   "source": [
    "## Задание 3\n",
    "Напишите функцию, которая будет удалять все последовательные повторы слов из заданной строки."
   ]
  },
  {
   "cell_type": "code",
   "execution_count": 56,
   "metadata": {},
   "outputs": [
    {
     "name": "stdout",
     "output_type": "stream",
     "text": [
      "Я живу в Москве\n",
      "Я живу в Москве\n"
     ]
    }
   ],
   "source": [
    "\n",
    "def duble():\n",
    "    user_line = input('')\n",
    "    print( re.sub(r'\\b([^\\W\\d_]+)(\\s+\\1)+\\b', r'\\1', re.sub(r'\\W+', ' ', user_line).strip(), flags=re.I) )\n",
    "duble()"
   ]
  },
  {
   "cell_type": "markdown",
   "metadata": {},
   "source": [
    "## Задание 4\n",
    "Напишите функцию, которая будет проверять номер сотового телефона на валидность, если он валиден, то переводить его в формат:   \n",
    "+7(xxx)-xxx-xx-xx  \n",
    "Постарайтесь предусмотреть как можно больше адекватных форматов изначального ввода номера.\n",
    "Примеры правильных и неправильных форматов:\n",
    "- +7 955 555-55-55;\n",
    "- 955555555;\n",
    "- 8(955)555-55-55;\n",
    "- +7 955 555 55 55;\n",
    "- 7(955) 555-55-55;\n",
    "- +7 955+555+55+55."
   ]
  },
  {
   "cell_type": "code",
   "execution_count": 4,
   "metadata": {},
   "outputs": [
    {
     "name": "stdout",
     "output_type": "stream",
     "text": [
      "Введите номер телефона: 89160371262\n"
     ]
    },
    {
     "data": {
      "text/plain": [
       "'+7(916)-037-12-62'"
      ]
     },
     "execution_count": 4,
     "metadata": {},
     "output_type": "execute_result"
    }
   ],
   "source": [
    "def check_phone():\n",
    "    user_phone_number = input('Введите номер телефона: ')\n",
    "    if re.match(r'^(8|7)?([0-9]{10})',re.sub(r'\\D+|\\s+',r'',user_phone_number)):\n",
    "        phone_list = list(re.sub(r'\\D+|\\s+',r'',user_phone_number))\n",
    "        if len(phone_list) == 11:\n",
    "            return ('+7(' + phone_list[1] + phone_list[2] + phone_list[3] + ')-' + phone_list[4] + phone_list[5] + phone_list[6] + '-' + phone_list[7] + phone_list[8] + '-' + phone_list[9] + phone_list[10])\n",
    "        else:\n",
    "            return ('+7(' + phone_list[0] + phone_list[1] + phone_list[2] + ')-' + phone_list[3] + phone_list[4] + phone_list[5] + '-' + phone_list[6] + phone_list[7] + '-' + phone_list[8] + phone_list[9])\n",
    "    else:\n",
    "        return ('Неправильно набран номер')\n",
    "check_phone()"
   ]
  },
  {
   "cell_type": "code",
   "execution_count": null,
   "metadata": {},
   "outputs": [],
   "source": []
  },
  {
   "cell_type": "code",
   "execution_count": null,
   "metadata": {},
   "outputs": [],
   "source": []
  }
 ],
 "metadata": {
  "kernelspec": {
   "display_name": "Python 3",
   "language": "python",
   "name": "python3"
  },
  "language_info": {
   "codemirror_mode": {
    "name": "ipython",
    "version": 3
   },
   "file_extension": ".py",
   "mimetype": "text/x-python",
   "name": "python",
   "nbconvert_exporter": "python",
   "pygments_lexer": "ipython3",
   "version": "3.7.4"
  }
 },
 "nbformat": 4,
 "nbformat_minor": 2
}
