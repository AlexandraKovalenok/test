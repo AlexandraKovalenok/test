{
 "cells": [
  {
   "cell_type": "code",
   "execution_count": 1,
   "metadata": {},
   "outputs": [],
   "source": [
    "import numpy as np\n",
    "from scipy.stats import t\n",
    "from scipy.stats import norm\n",
    "import matplotlib.pyplot as plt\n",
    "from scipy import stats\n",
    "import pandas as pd\n",
    "import io\n",
    "import requests\n",
    "import seaborn as sns\n",
    "import statistics\n",
    "from scipy.stats import pearsonr\n",
    "import random\n",
    "from sklearn import preprocessing\n",
    "%matplotlib inline\n"
   ]
  },
  {
   "cell_type": "code",
   "execution_count": 2,
   "metadata": {},
   "outputs": [
    {
     "data": {
      "text/html": [
       "<div>\n",
       "<style scoped>\n",
       "    .dataframe tbody tr th:only-of-type {\n",
       "        vertical-align: middle;\n",
       "    }\n",
       "\n",
       "    .dataframe tbody tr th {\n",
       "        vertical-align: top;\n",
       "    }\n",
       "\n",
       "    .dataframe thead th {\n",
       "        text-align: right;\n",
       "    }\n",
       "</style>\n",
       "<table border=\"1\" class=\"dataframe\">\n",
       "  <thead>\n",
       "    <tr style=\"text-align: right;\">\n",
       "      <th></th>\n",
       "      <th>satisfaction_level</th>\n",
       "      <th>last_evaluation</th>\n",
       "      <th>number_project</th>\n",
       "      <th>average_montly_hours</th>\n",
       "      <th>time_spend_company</th>\n",
       "      <th>Work_accident</th>\n",
       "      <th>left</th>\n",
       "      <th>promotion_last_5years</th>\n",
       "      <th>sales</th>\n",
       "      <th>salary</th>\n",
       "    </tr>\n",
       "  </thead>\n",
       "  <tbody>\n",
       "    <tr>\n",
       "      <th>0</th>\n",
       "      <td>0.38</td>\n",
       "      <td>0.53</td>\n",
       "      <td>2</td>\n",
       "      <td>157</td>\n",
       "      <td>3</td>\n",
       "      <td>0</td>\n",
       "      <td>1</td>\n",
       "      <td>0</td>\n",
       "      <td>sales</td>\n",
       "      <td>low</td>\n",
       "    </tr>\n",
       "    <tr>\n",
       "      <th>1</th>\n",
       "      <td>0.80</td>\n",
       "      <td>0.86</td>\n",
       "      <td>5</td>\n",
       "      <td>262</td>\n",
       "      <td>6</td>\n",
       "      <td>0</td>\n",
       "      <td>1</td>\n",
       "      <td>0</td>\n",
       "      <td>sales</td>\n",
       "      <td>medium</td>\n",
       "    </tr>\n",
       "    <tr>\n",
       "      <th>2</th>\n",
       "      <td>0.11</td>\n",
       "      <td>0.88</td>\n",
       "      <td>7</td>\n",
       "      <td>272</td>\n",
       "      <td>4</td>\n",
       "      <td>0</td>\n",
       "      <td>1</td>\n",
       "      <td>0</td>\n",
       "      <td>sales</td>\n",
       "      <td>medium</td>\n",
       "    </tr>\n",
       "    <tr>\n",
       "      <th>3</th>\n",
       "      <td>0.72</td>\n",
       "      <td>0.87</td>\n",
       "      <td>5</td>\n",
       "      <td>223</td>\n",
       "      <td>5</td>\n",
       "      <td>0</td>\n",
       "      <td>1</td>\n",
       "      <td>0</td>\n",
       "      <td>sales</td>\n",
       "      <td>low</td>\n",
       "    </tr>\n",
       "    <tr>\n",
       "      <th>4</th>\n",
       "      <td>0.37</td>\n",
       "      <td>0.52</td>\n",
       "      <td>2</td>\n",
       "      <td>159</td>\n",
       "      <td>3</td>\n",
       "      <td>0</td>\n",
       "      <td>1</td>\n",
       "      <td>0</td>\n",
       "      <td>sales</td>\n",
       "      <td>low</td>\n",
       "    </tr>\n",
       "  </tbody>\n",
       "</table>\n",
       "</div>"
      ],
      "text/plain": [
       "   satisfaction_level  last_evaluation  number_project  average_montly_hours  \\\n",
       "0                0.38             0.53               2                   157   \n",
       "1                0.80             0.86               5                   262   \n",
       "2                0.11             0.88               7                   272   \n",
       "3                0.72             0.87               5                   223   \n",
       "4                0.37             0.52               2                   159   \n",
       "\n",
       "   time_spend_company  Work_accident  left  promotion_last_5years  sales  \\\n",
       "0                   3              0     1                      0  sales   \n",
       "1                   6              0     1                      0  sales   \n",
       "2                   4              0     1                      0  sales   \n",
       "3                   5              0     1                      0  sales   \n",
       "4                   3              0     1                      0  sales   \n",
       "\n",
       "   salary  \n",
       "0     low  \n",
       "1  medium  \n",
       "2  medium  \n",
       "3     low  \n",
       "4     low  "
      ]
     },
     "execution_count": 2,
     "metadata": {},
     "output_type": "execute_result"
    }
   ],
   "source": [
    "hr = pd.read_csv('HR.csv')\n",
    "hr.head()"
   ]
  },
  {
   "cell_type": "markdown",
   "metadata": {},
   "source": [
    "## Основные статистики для переменных:"
   ]
  },
  {
   "cell_type": "markdown",
   "metadata": {},
   "source": [
    "1) satisfaction_level"
   ]
  },
  {
   "cell_type": "code",
   "execution_count": 3,
   "metadata": {},
   "outputs": [
    {
     "name": "stdout",
     "output_type": "stream",
     "text": [
      "Среднее значение: 0.6128335222348157\n",
      "Медиана: 0.64\n",
      "Мода:  0.1\n",
      "Минимум: 0.09\n",
      "Максимум: 1.0\n",
      "Стандартное отклонение: 0.2486223626820733\n"
     ]
    }
   ],
   "source": [
    "print('Среднее значение: ' + str(statistics.mean(hr['satisfaction_level'])))\n",
    "print('Медиана: ' + str(statistics.median(hr['satisfaction_level'])))\n",
    "print('Мода: ', statistics.mode(hr['satisfaction_level']))\n",
    "print('Минимум: ' + str(min(hr['satisfaction_level'])))\n",
    "print('Максимум: ' + str(max(hr['satisfaction_level'])))\n",
    "print('Стандартное отклонение: ' + str(statistics.pstdev(hr['satisfaction_level'])))"
   ]
  },
  {
   "cell_type": "markdown",
   "metadata": {},
   "source": [
    "2) last_evaluation\t"
   ]
  },
  {
   "cell_type": "code",
   "execution_count": 4,
   "metadata": {},
   "outputs": [
    {
     "name": "stdout",
     "output_type": "stream",
     "text": [
      "Среднее значение: 0.7161017401160077\n",
      "Медиана: 0.72\n",
      "Мода:  0.55\n",
      "Минимум: 0.36\n",
      "Максимум: 1.0\n",
      "Стандартное отклонение: 0.1711634045107436\n"
     ]
    }
   ],
   "source": [
    "print('Среднее значение: ' + str(statistics.mean(hr['last_evaluation'])))\n",
    "print('Медиана: ' + str(statistics.median(hr['last_evaluation'])))\n",
    "print('Мода: ', statistics.mode(hr['last_evaluation']))\n",
    "print('Минимум: ' + str(min(hr['last_evaluation'])))\n",
    "print('Максимум: ' + str(max(hr['last_evaluation'])))\n",
    "print('Стандартное отклонение: ' + str(statistics.pstdev(hr['last_evaluation'])))"
   ]
  },
  {
   "cell_type": "markdown",
   "metadata": {},
   "source": [
    "3) number_project"
   ]
  },
  {
   "cell_type": "code",
   "execution_count": 5,
   "metadata": {},
   "outputs": [
    {
     "name": "stdout",
     "output_type": "stream",
     "text": [
      "Среднее значение: 3.80305353690246\n",
      "Медиана: 4\n",
      "Мода:  4\n",
      "Минимум: 2\n",
      "Максимум: 7\n",
      "Стандартное отклонение: 1.2325512654823438\n"
     ]
    }
   ],
   "source": [
    "print('Среднее значение: ' + str(statistics.mean(hr['number_project'])))\n",
    "print('Медиана: ' + str(statistics.median(hr['number_project'])))\n",
    "print('Мода: ', statistics.mode(hr['number_project']))\n",
    "print('Минимум: ' + str(min(hr['number_project'])))\n",
    "print('Максимум: ' + str(max(hr['number_project'])))\n",
    "print('Стандартное отклонение: ' + str(statistics.pstdev(hr['number_project'])))"
   ]
  },
  {
   "cell_type": "markdown",
   "metadata": {},
   "source": [
    "4) average_montly_hours"
   ]
  },
  {
   "cell_type": "code",
   "execution_count": 6,
   "metadata": {},
   "outputs": [
    {
     "name": "stdout",
     "output_type": "stream",
     "text": [
      "Среднее значение: 201.0503366891126\n",
      "Медиана: 200\n",
      "Минимум: 96\n",
      "Максимум: 310\n",
      "Стандартное отклонение: 49.94143446256218\n"
     ]
    }
   ],
   "source": [
    "print('Среднее значение: ' + str(statistics.mean(hr['average_montly_hours'])))\n",
    "print('Медиана: ' + str(statistics.median(hr['average_montly_hours'])))\n",
    "print('Минимум: ' + str(min(hr['average_montly_hours'])))\n",
    "print('Максимум: ' + str(max(hr['average_montly_hours'])))\n",
    "print('Стандартное отклонение: ' + str(statistics.pstdev(hr['average_montly_hours'])))"
   ]
  },
  {
   "cell_type": "markdown",
   "metadata": {},
   "source": [
    "5) time_spend_company"
   ]
  },
  {
   "cell_type": "code",
   "execution_count": 7,
   "metadata": {
    "scrolled": true
   },
   "outputs": [
    {
     "name": "stdout",
     "output_type": "stream",
     "text": [
      "Среднее значение: 3.498233215547703\n",
      "Медиана: 3\n",
      "Минимум: 2\n",
      "Максимум: 10\n",
      "Стандартное отклонение: 1.4600875552715114\n"
     ]
    }
   ],
   "source": [
    "print('Среднее значение: ' + str(statistics.mean(hr['time_spend_company'])))\n",
    "print('Медиана: ' + str(statistics.median(hr['time_spend_company'])))\n",
    "print('Минимум: ' + str(min(hr['time_spend_company'])))\n",
    "print('Максимум: ' + str(max(hr['time_spend_company'])))\n",
    "print('Стандартное отклонение: ' + str(statistics.pstdev(hr['time_spend_company'])))"
   ]
  },
  {
   "cell_type": "markdown",
   "metadata": {},
   "source": [
    "6) Work_accident"
   ]
  },
  {
   "cell_type": "code",
   "execution_count": 8,
   "metadata": {},
   "outputs": [
    {
     "name": "stdout",
     "output_type": "stream",
     "text": [
      "Среднее значение: 0.1446096406427095\n",
      "Медиана: 0\n",
      "Мода:  0\n",
      "Минимум: 0\n",
      "Максимум: 1\n",
      "Стандартное отклонение: 0.3517068274513532\n"
     ]
    }
   ],
   "source": [
    "print('Среднее значение: ' + str(statistics.mean(hr['Work_accident'])))\n",
    "print('Медиана: ' + str(statistics.median(hr['Work_accident'])))\n",
    "print('Мода: ', statistics.mode(hr['Work_accident']))\n",
    "print('Минимум: ' + str(min(hr['Work_accident'])))\n",
    "print('Максимум: ' + str(max(hr['Work_accident'])))\n",
    "print('Стандартное отклонение: ' + str(statistics.pstdev(hr['Work_accident'])))"
   ]
  },
  {
   "cell_type": "markdown",
   "metadata": {},
   "source": [
    "7) left"
   ]
  },
  {
   "cell_type": "code",
   "execution_count": 9,
   "metadata": {},
   "outputs": [
    {
     "name": "stdout",
     "output_type": "stream",
     "text": [
      "Среднее значение: 0.2380825388359224\n",
      "Медиана: 0\n",
      "Мода:  0\n",
      "Минимум: 0\n",
      "Максимум: 1\n",
      "Стандартное отклонение: 0.42590990072709495\n"
     ]
    }
   ],
   "source": [
    "print('Среднее значение: ' + str(statistics.mean(hr['left'])))\n",
    "print('Медиана: ' + str(statistics.median(hr['left'])))\n",
    "print('Мода: ', statistics.mode(hr['left']))\n",
    "print('Минимум: ' + str(min(hr['left'])))\n",
    "print('Максимум: ' + str(max(hr['left'])))\n",
    "print('Стандартное отклонение: ' + str(statistics.pstdev(hr['left'])))"
   ]
  },
  {
   "cell_type": "markdown",
   "metadata": {},
   "source": [
    "8) promotion_last_5years"
   ]
  },
  {
   "cell_type": "code",
   "execution_count": 10,
   "metadata": {},
   "outputs": [
    {
     "name": "stdout",
     "output_type": "stream",
     "text": [
      "Среднее значение: 0.021268084538969265\n",
      "Медиана: 0\n",
      "Мода:  0\n",
      "Минимум: 0\n",
      "Максимум: 1\n",
      "Стандартное отклонение: 0.14427665479561314\n"
     ]
    }
   ],
   "source": [
    "print('Среднее значение: ' + str(statistics.mean(hr['promotion_last_5years'])))\n",
    "print('Медиана: ' + str(statistics.median(hr['promotion_last_5years'])))\n",
    "print('Мода: ', statistics.mode(hr['promotion_last_5years']))\n",
    "print('Минимум: ' + str(min(hr['promotion_last_5years'])))\n",
    "print('Максимум: ' + str(max(hr['promotion_last_5years'])))\n",
    "print('Стандартное отклонение: ' + str(statistics.pstdev(hr['promotion_last_5years'])))"
   ]
  },
  {
   "cell_type": "markdown",
   "metadata": {},
   "source": [
    "## Корреляционная матрица для переменных:"
   ]
  },
  {
   "cell_type": "code",
   "execution_count": 11,
   "metadata": {},
   "outputs": [],
   "source": [
    "headers_new = []\n",
    "headers = list(hr.columns.values)\n",
    "for i in range(len(list(hr.columns.values)) - 2):\n",
    "    headers_new.append(headers[i])"
   ]
  },
  {
   "cell_type": "markdown",
   "metadata": {},
   "source": [
    "нормализуем данные"
   ]
  },
  {
   "cell_type": "code",
   "execution_count": 12,
   "metadata": {},
   "outputs": [
    {
     "data": {
      "text/html": [
       "<div>\n",
       "<style scoped>\n",
       "    .dataframe tbody tr th:only-of-type {\n",
       "        vertical-align: middle;\n",
       "    }\n",
       "\n",
       "    .dataframe tbody tr th {\n",
       "        vertical-align: top;\n",
       "    }\n",
       "\n",
       "    .dataframe thead th {\n",
       "        text-align: right;\n",
       "    }\n",
       "</style>\n",
       "<table border=\"1\" class=\"dataframe\">\n",
       "  <thead>\n",
       "    <tr style=\"text-align: right;\">\n",
       "      <th></th>\n",
       "      <th>satisfaction_level</th>\n",
       "      <th>last_evaluation</th>\n",
       "      <th>number_project</th>\n",
       "      <th>average_montly_hours</th>\n",
       "      <th>time_spend_company</th>\n",
       "      <th>Work_accident</th>\n",
       "      <th>left</th>\n",
       "      <th>promotion_last_5years</th>\n",
       "      <th>sales</th>\n",
       "      <th>salary</th>\n",
       "    </tr>\n",
       "  </thead>\n",
       "  <tbody>\n",
       "    <tr>\n",
       "      <th>0</th>\n",
       "      <td>-0.362637</td>\n",
       "      <td>-0.46875</td>\n",
       "      <td>-1.0</td>\n",
       "      <td>-0.429907</td>\n",
       "      <td>-0.75</td>\n",
       "      <td>-1.0</td>\n",
       "      <td>1.0</td>\n",
       "      <td>-1.0</td>\n",
       "      <td>sales</td>\n",
       "      <td>low</td>\n",
       "    </tr>\n",
       "    <tr>\n",
       "      <th>1</th>\n",
       "      <td>0.560440</td>\n",
       "      <td>0.56250</td>\n",
       "      <td>0.2</td>\n",
       "      <td>0.551402</td>\n",
       "      <td>0.00</td>\n",
       "      <td>-1.0</td>\n",
       "      <td>1.0</td>\n",
       "      <td>-1.0</td>\n",
       "      <td>sales</td>\n",
       "      <td>medium</td>\n",
       "    </tr>\n",
       "    <tr>\n",
       "      <th>2</th>\n",
       "      <td>-0.956044</td>\n",
       "      <td>0.62500</td>\n",
       "      <td>1.0</td>\n",
       "      <td>0.644860</td>\n",
       "      <td>-0.50</td>\n",
       "      <td>-1.0</td>\n",
       "      <td>1.0</td>\n",
       "      <td>-1.0</td>\n",
       "      <td>sales</td>\n",
       "      <td>medium</td>\n",
       "    </tr>\n",
       "    <tr>\n",
       "      <th>3</th>\n",
       "      <td>0.384615</td>\n",
       "      <td>0.59375</td>\n",
       "      <td>0.2</td>\n",
       "      <td>0.186916</td>\n",
       "      <td>-0.25</td>\n",
       "      <td>-1.0</td>\n",
       "      <td>1.0</td>\n",
       "      <td>-1.0</td>\n",
       "      <td>sales</td>\n",
       "      <td>low</td>\n",
       "    </tr>\n",
       "    <tr>\n",
       "      <th>4</th>\n",
       "      <td>-0.384615</td>\n",
       "      <td>-0.50000</td>\n",
       "      <td>-1.0</td>\n",
       "      <td>-0.411215</td>\n",
       "      <td>-0.75</td>\n",
       "      <td>-1.0</td>\n",
       "      <td>1.0</td>\n",
       "      <td>-1.0</td>\n",
       "      <td>sales</td>\n",
       "      <td>low</td>\n",
       "    </tr>\n",
       "  </tbody>\n",
       "</table>\n",
       "</div>"
      ],
      "text/plain": [
       "   satisfaction_level  last_evaluation  number_project  average_montly_hours  \\\n",
       "0           -0.362637         -0.46875            -1.0             -0.429907   \n",
       "1            0.560440          0.56250             0.2              0.551402   \n",
       "2           -0.956044          0.62500             1.0              0.644860   \n",
       "3            0.384615          0.59375             0.2              0.186916   \n",
       "4           -0.384615         -0.50000            -1.0             -0.411215   \n",
       "\n",
       "   time_spend_company  Work_accident  left  promotion_last_5years  sales  \\\n",
       "0               -0.75           -1.0   1.0                   -1.0  sales   \n",
       "1                0.00           -1.0   1.0                   -1.0  sales   \n",
       "2               -0.50           -1.0   1.0                   -1.0  sales   \n",
       "3               -0.25           -1.0   1.0                   -1.0  sales   \n",
       "4               -0.75           -1.0   1.0                   -1.0  sales   \n",
       "\n",
       "   salary  \n",
       "0     low  \n",
       "1  medium  \n",
       "2  medium  \n",
       "3     low  \n",
       "4     low  "
      ]
     },
     "execution_count": 12,
     "metadata": {},
     "output_type": "execute_result"
    }
   ],
   "source": [
    "hr_new = hr[['satisfaction_level', 'last_evaluation', 'number_project', 'average_montly_hours', 'time_spend_company', 'Work_accident', 'left', 'promotion_last_5years']]\n",
    "min_max_scaler = preprocessing.MinMaxScaler(feature_range=(-1,1))\n",
    "np_scaled = min_max_scaler.fit_transform(hr_new)\n",
    "hr_norm = pd.DataFrame(np_scaled)\n",
    "hr_norm.columns = headers_new\n",
    "hr_norm['sales'] = hr.sales\n",
    "hr_norm['salary'] = hr.salary\n",
    "hr_norm.head()"
   ]
  },
  {
   "cell_type": "code",
   "execution_count": 13,
   "metadata": {},
   "outputs": [
    {
     "data": {
      "image/png": "[encoded data removed]",
      "text/plain": [
       "<Figure size 1080x720 with 2 Axes>"
      ]
     },
     "metadata": {
      "needs_background": "light"
     },
     "output_type": "display_data"
    }
   ],
   "source": [
    "sns.heatmap(hr_norm.corr(),annot=True,cmap='RdYlGn',linewidths=0.2) #data.corr()-->матрица корреляций\n",
    "fig=plt.gcf()\n",
    "fig.set_size_inches(15,10)\n",
    "plt.show()"
   ]
  },
  {
   "cell_type": "markdown",
   "metadata": {},
   "source": [
    "Наибольшую прямую корреляцию имеют следующие показатели: номер проекта и среднее количество часов в месяц (чем выше номер проекта, тем больше часов на него уходит), номер проекта и последняя оценка (чем больше номер проекта, тем выше последняя оценка), среднее количество часов в месяц и последняя оценка (чем больше потрачено часов, тем выше последняя оценка).\n",
    "Наибольшую обратную корреляцию имеют показатели: увольнение и уровень удовлетворенности (у уволенных людей удовлетворенность ниже)"
   ]
  },
  {
   "cell_type": "markdown",
   "metadata": {},
   "source": [
    "## Визуализация взаимосвязей между переменными:"
   ]
  },
  {
   "cell_type": "code",
   "execution_count": 14,
   "metadata": {},
   "outputs": [
    {
     "data": {
      "text/plain": [
       "<AxesSubplot:xlabel='number_project'>"
      ]
     },
     "execution_count": 14,
     "metadata": {},
     "output_type": "execute_result"
    },
    {
     "data": {
      "image/png": "[encoded data removed]",
      "text/plain": [
       "<Figure size 432x288 with 1 Axes>"
      ]
     },
     "metadata": {
      "needs_background": "light"
     },
     "output_type": "display_data"
    }
   ],
   "source": [
    "hr[['average_montly_hours', 'number_project']].groupby('number_project').mean().plot()"
   ]
  },
  {
   "cell_type": "markdown",
   "metadata": {},
   "source": [
    "#### 1) Самым трудозатратным является проект №7. Это связано с тем, что на этом проекте люди тратят большее количество часов в месяц. Для доказательства посмотрим распределение часов на 7 и 2 проекте"
   ]
  },
  {
   "cell_type": "code",
   "execution_count": 15,
   "metadata": {},
   "outputs": [
    {
     "data": {
      "text/plain": [
       "<AxesSubplot:>"
      ]
     },
     "execution_count": 15,
     "metadata": {},
     "output_type": "execute_result"
    },
    {
     "data": {
      "image/png": "[encoded data removed]",
      "text/plain": [
       "<Figure size 432x288 with 1 Axes>"
      ]
     },
     "metadata": {
      "needs_background": "light"
     },
     "output_type": "display_data"
    }
   ],
   "source": [
    "hr[hr.number_project == 7]['average_montly_hours'].hist()"
   ]
  },
  {
   "cell_type": "code",
   "execution_count": 16,
   "metadata": {},
   "outputs": [
    {
     "data": {
      "text/plain": [
       "<AxesSubplot:>"
      ]
     },
     "execution_count": 16,
     "metadata": {},
     "output_type": "execute_result"
    },
    {
     "data": {
      "image/png": "[encoded data removed]",
      "text/plain": [
       "<Figure size 432x288 with 1 Axes>"
      ]
     },
     "metadata": {
      "needs_background": "light"
     },
     "output_type": "display_data"
    }
   ],
   "source": [
    "hr[hr.number_project == 2]['average_montly_hours'].hist()"
   ]
  },
  {
   "cell_type": "markdown",
   "metadata": {},
   "source": [
    "#### Как видно, на втором проекте наибольшее количество часов сосредоточено на отметке 150, а на 7 проекте 275 - 300"
   ]
  },
  {
   "cell_type": "code",
   "execution_count": 17,
   "metadata": {},
   "outputs": [
    {
     "data": {
      "text/plain": [
       "<AxesSubplot:xlabel='left'>"
      ]
     },
     "execution_count": 17,
     "metadata": {},
     "output_type": "execute_result"
    },
    {
     "data": {
      "image/png": "[encoded data removed]",
      "text/plain": [
       "<Figure size 432x288 with 1 Axes>"
      ]
     },
     "metadata": {
      "needs_background": "light"
     },
     "output_type": "display_data"
    }
   ],
   "source": [
    "hr[['left', 'satisfaction_level']].groupby('left').mean().plot(kind='bar')"
   ]
  },
  {
   "cell_type": "markdown",
   "metadata": {},
   "source": [
    "#### 2) У сотрудников, покинувших компанию, уровень удовлетворенности ниже, чем у тех, кто продолжает работать"
   ]
  },
  {
   "cell_type": "code",
   "execution_count": 18,
   "metadata": {},
   "outputs": [
    {
     "data": {
      "text/plain": [
       "<AxesSubplot:xlabel='number_project'>"
      ]
     },
     "execution_count": 18,
     "metadata": {},
     "output_type": "execute_result"
    },
    {
     "data": {
      "image/png": "[encoded data removed]",
      "text/plain": [
       "<Figure size 432x288 with 1 Axes>"
      ]
     },
     "metadata": {
      "needs_background": "light"
     },
     "output_type": "display_data"
    }
   ],
   "source": [
    "hr[['last_evaluation', 'number_project']].groupby('number_project').mean().plot()"
   ]
  },
  {
   "cell_type": "markdown",
   "metadata": {},
   "source": [
    "#### 3) Не смотря на то, что люди в среднем работают гораздо больше на проекте №7, их уровень удовлетворенности по последней оценке наиболее высокий. Возможно это связано с более высоким уровнем зарплат. Можно сравнить распределение зарплат на проекте 2 и 7"
   ]
  },
  {
   "cell_type": "code",
   "execution_count": 19,
   "metadata": {},
   "outputs": [
    {
     "data": {
      "text/plain": [
       "<AxesSubplot:>"
      ]
     },
     "execution_count": 19,
     "metadata": {},
     "output_type": "execute_result"
    },
    {
     "data": {
      "image/png": "[encoded data removed]",
      "text/plain": [
       "<Figure size 432x288 with 1 Axes>"
      ]
     },
     "metadata": {
      "needs_background": "light"
     },
     "output_type": "display_data"
    }
   ],
   "source": [
    "hr[hr.number_project == 7]['salary'].hist()"
   ]
  },
  {
   "cell_type": "code",
   "execution_count": 20,
   "metadata": {},
   "outputs": [
    {
     "data": {
      "text/plain": [
       "<AxesSubplot:>"
      ]
     },
     "execution_count": 20,
     "metadata": {},
     "output_type": "execute_result"
    },
    {
     "data": {
      "image/png": "[encoded data removed]",
      "text/plain": [
       "<Figure size 432x288 with 1 Axes>"
      ]
     },
     "metadata": {
      "needs_background": "light"
     },
     "output_type": "display_data"
    }
   ],
   "source": [
    "hr[hr.number_project == 2]['salary'].hist()"
   ]
  },
  {
   "cell_type": "markdown",
   "metadata": {},
   "source": [
    "#### распредлеление затрат примерно одинаковое. На обоих проектах большинство составляют сотрудники с низкой зарплатой. Скорее всего на 7 проекте работают более лояльные сотрудники, тк параметр last_evaluation ни с чем больше не коррелирует"
   ]
  },
  {
   "cell_type": "code",
   "execution_count": null,
   "metadata": {},
   "outputs": [],
   "source": []
  },
  {
   "cell_type": "markdown",
   "metadata": {},
   "source": [
    "# С использованием t-test статистики проверить взаимосвязи между несколькими переменными"
   ]
  },
  {
   "cell_type": "code",
   "execution_count": 21,
   "metadata": {},
   "outputs": [
    {
     "data": {
      "text/plain": [
       "Ttest_indResult(statistic=5.8085231832232775, pvalue=6.366198680850541e-09)"
      ]
     },
     "execution_count": 21,
     "metadata": {},
     "output_type": "execute_result"
    }
   ],
   "source": [
    "stats.ttest_ind(hr_norm.satisfaction_level, hr_norm.last_evaluation)"
   ]
  },
  {
   "cell_type": "markdown",
   "metadata": {},
   "source": [
    "#### так как p - value > 0,05, то можно сказать, что выборки не различаются. Это означает, что уровень удовлетворенности сотрудников не изменился по сравнению с прошлой оценкой"
   ]
  },
  {
   "cell_type": "code",
   "execution_count": 22,
   "metadata": {},
   "outputs": [
    {
     "data": {
      "text/plain": [
       "Ttest_indResult(statistic=59.04705286517298, pvalue=0.0)"
      ]
     },
     "execution_count": 22,
     "metadata": {},
     "output_type": "execute_result"
    }
   ],
   "source": [
    "stats.ttest_ind(hr_norm.left, hr_norm.promotion_last_5years)"
   ]
  },
  {
   "cell_type": "markdown",
   "metadata": {},
   "source": [
    "#### p - value < 0,05, выборки различаются => уход сотрудников связан с фактом повышения / не повышения"
   ]
  },
  {
   "cell_type": "code",
   "execution_count": 23,
   "metadata": {},
   "outputs": [
    {
     "data": {
      "text/plain": [
       "Ttest_indResult(statistic=-20.724471296371636, pvalue=9.625063899987165e-95)"
      ]
     },
     "execution_count": 23,
     "metadata": {},
     "output_type": "execute_result"
    }
   ],
   "source": [
    "stats.ttest_ind(hr_norm.Work_accident, hr_norm.left)"
   ]
  },
  {
   "cell_type": "markdown",
   "metadata": {},
   "source": [
    "#### уход сотрудников также не связан с несчастным случаем на работе (p-value  > 0.05 => выборки не различаются)"
   ]
  },
  {
   "cell_type": "markdown",
   "metadata": {},
   "source": [
    "# Рассчитать сколько работников работает в каждом департаменте"
   ]
  },
  {
   "cell_type": "code",
   "execution_count": 24,
   "metadata": {},
   "outputs": [
    {
     "name": "stdout",
     "output_type": "stream",
     "text": [
      "В отделе sales работает 4140 человек\n",
      "В отделе accounting работает 767 человек\n",
      "В отделе hr работает 739 человек\n",
      "В отделе technical работает 2720 человек\n",
      "В отделе support работает 2229 человек\n",
      "В отделе management работает 630 человек\n",
      "В отделе IT работает 1227 человек\n",
      "В отделе product_mng работает 902 человек\n",
      "В отделе marketing работает 858 человек\n",
      "В отделе RandD работает 787 человек\n"
     ]
    }
   ],
   "source": [
    "for department in hr.sales.unique():\n",
    "    print('В отделе ' + str(department) + ' работает ' + str(hr[hr.sales == str(department)]['sales'].count()) + ' человек')"
   ]
  },
  {
   "cell_type": "markdown",
   "metadata": {},
   "source": [
    "#### Топ-3 отдела по количеству сотрудников: sales, technical, support"
   ]
  },
  {
   "cell_type": "markdown",
   "metadata": {},
   "source": [
    "# Показать распределение сотрудников по зарплатам."
   ]
  },
  {
   "cell_type": "code",
   "execution_count": 25,
   "metadata": {},
   "outputs": [
    {
     "data": {
      "text/plain": [
       "<AxesSubplot:>"
      ]
     },
     "execution_count": 25,
     "metadata": {},
     "output_type": "execute_result"
    },
    {
     "data": {
      "image/png": "[encoded data removed]",
      "text/plain": [
       "<Figure size 432x288 with 1 Axes>"
      ]
     },
     "metadata": {
      "needs_background": "light"
     },
     "output_type": "display_data"
    }
   ],
   "source": [
    "hr.salary.value_counts().plot(kind='bar')"
   ]
  },
  {
   "cell_type": "markdown",
   "metadata": {},
   "source": [
    "#### Крайне маленькую часть составляют сотрудники с высокой зарплатой. Скорее всего это руководители департаментов и Топ-менеджмент\n"
   ]
  },
  {
   "cell_type": "markdown",
   "metadata": {},
   "source": [
    "# Показать распределение сотрудников по зарплатам совместно с департаментами."
   ]
  },
  {
   "cell_type": "code",
   "execution_count": 26,
   "metadata": {},
   "outputs": [
    {
     "name": "stderr",
     "output_type": "stream",
     "text": [
      "<ipython-input-26-4c3cd84e8510>:2: SettingWithCopyWarning: \n",
      "A value is trying to be set on a copy of a slice from a DataFrame.\n",
      "Try using .loc[row_indexer,col_indexer] = value instead\n",
      "\n",
      "See the caveats in the documentation: https://pandas.pydata.org/pandas-docs/stable/user_guide/indexing.html#returning-a-view-versus-a-copy\n",
      "  hr_new['employee amount'] = 1\n"
     ]
    }
   ],
   "source": [
    "hr_new = hr[['sales', 'salary']]\n",
    "hr_new['employee amount'] = 1"
   ]
  },
  {
   "cell_type": "code",
   "execution_count": 27,
   "metadata": {},
   "outputs": [
    {
     "data": {
      "text/plain": [
       "<AxesSubplot:xlabel='sales'>"
      ]
     },
     "execution_count": 27,
     "metadata": {},
     "output_type": "execute_result"
    },
    {
     "data": {
      "image/png": "[encoded data removed]",
      "text/plain": [
       "<Figure size 432x288 with 1 Axes>"
      ]
     },
     "metadata": {
      "needs_background": "light"
     },
     "output_type": "display_data"
    }
   ],
   "source": [
    "hr_new.groupby(['sales','salary']).count().unstack().plot(kind='bar')"
   ]
  },
  {
   "cell_type": "markdown",
   "metadata": {},
   "source": [
    "#### В ТОП-3 отделах наибольшее количество сотрудников получают низкую зарплату, как внутри отдела, так и в целом по компании. Кроме того , в этих отделах наибольшее различее в количестве сотрудников с низкой зарплатой по сравнению с количеством сотрудников со средней зарплатой."
   ]
  },
  {
   "cell_type": "markdown",
   "metadata": {},
   "source": [
    "# Сколько сотрудников покинули компанию."
   ]
  },
  {
   "cell_type": "code",
   "execution_count": 28,
   "metadata": {},
   "outputs": [
    {
     "name": "stdout",
     "output_type": "stream",
     "text": [
      "Всего покинули компанию 3571 сотрудников. В том числе:\n",
      "Из отдела sales уволилось 1014 человек\n",
      "Из отдела accounting уволилось 204 человек\n",
      "Из отдела hr уволилось 215 человек\n",
      "Из отдела technical уволилось 697 человек\n",
      "Из отдела support уволилось 555 человек\n",
      "Из отдела management уволилось 91 человек\n",
      "Из отдела IT уволилось 273 человек\n",
      "Из отдела product_mng уволилось 198 человек\n",
      "Из отдела marketing уволилось 203 человек\n",
      "Из отдела RandD уволилось 121 человек\n"
     ]
    }
   ],
   "source": [
    "print('Всего покинули компанию ' + str(hr.left.sum()) + ' сотрудников. В том числе:')\n",
    "for department in hr.sales.unique():\n",
    "    print('Из отдела ' + str(department) + ' уволилось ' + str(hr[hr.sales == str(department)]['left'].sum()) + ' человек')"
   ]
  },
  {
   "cell_type": "markdown",
   "metadata": {},
   "source": [
    "#### Как видно из данных, наибольшее количество людей ушло из трех отделов с наибольшим числом сотрудников, получающих низкую зарплату. При этом в сравнениии с другими отделами этот показатель больше более чем в 2 раза."
   ]
  },
  {
   "cell_type": "markdown",
   "metadata": {},
   "source": [
    "# Проверить несколько гипотез для данных, чтобы понять почему сотрудники покидают компанию."
   ]
  },
  {
   "cell_type": "markdown",
   "metadata": {},
   "source": [
    "1) На диаграмме распределения сотрудников по зарплатам и отделам видно, что отделы sales, support и technical имеют наибольшее количество сотрудников, среди которых большинство получает низкую зарплату. Также среди покинувших компанию сотрудников подавляющее большинство было из этих же отделов. Проверим гипотезу, что одной из причин увольнения является низкая зарплата."
   ]
  },
  {
   "cell_type": "code",
   "execution_count": 29,
   "metadata": {},
   "outputs": [],
   "source": [
    "low = hr[hr['salary']=='low'].left\n",
    "medium_and_high = hr[(hr['salary']=='medium')|(hr['salary']=='high')].left\n"
   ]
  },
  {
   "cell_type": "code",
   "execution_count": 30,
   "metadata": {},
   "outputs": [
    {
     "name": "stdout",
     "output_type": "stream",
     "text": [
      "Requirement already satisfied: researchpy in e:\\anaconda\\lib\\site-packages (0.2.3)\n",
      "Requirement already satisfied: statsmodels in e:\\anaconda\\lib\\site-packages (from researchpy) (0.12.0)\n",
      "Requirement already satisfied: pandas in e:\\anaconda\\lib\\site-packages (from researchpy) (1.1.3)\n",
      "Requirement already satisfied: numpy in e:\\anaconda\\lib\\site-packages (from researchpy) (1.19.2)\n",
      "Requirement already satisfied: scipy in e:\\anaconda\\lib\\site-packages (from researchpy) (1.5.2)\n",
      "Requirement already satisfied: patsy>=0.5 in e:\\anaconda\\lib\\site-packages (from statsmodels->researchpy) (0.5.1)\n",
      "Requirement already satisfied: python-dateutil>=2.7.3 in e:\\anaconda\\lib\\site-packages (from pandas->researchpy) (2.8.1)\n",
      "Requirement already satisfied: pytz>=2017.2 in e:\\anaconda\\lib\\site-packages (from pandas->researchpy) (2020.1)\n",
      "Requirement already satisfied: six in e:\\anaconda\\lib\\site-packages (from patsy>=0.5->statsmodels->researchpy) (1.15.0)\n",
      "Note: you may need to restart the kernel to use updated packages.\n"
     ]
    }
   ],
   "source": [
    "pip install researchpy"
   ]
  },
  {
   "cell_type": "code",
   "execution_count": 32,
   "metadata": {},
   "outputs": [],
   "source": [
    "import researchpy as rp"
   ]
  },
  {
   "cell_type": "code",
   "execution_count": 33,
   "metadata": {},
   "outputs": [
    {
     "name": "stdout",
     "output_type": "stream",
     "text": [
      "   Variable        N      Mean        SD        SE  95% Conf.  Interval\n",
      "0      left   7316.0  0.296884  0.456916  0.005342   0.286412  0.307355\n",
      "1      left   7683.0  0.182090  0.385944  0.004403   0.173459  0.190722\n",
      "2  combined  14999.0  0.238083  0.425924  0.003478   0.231266  0.244899\n",
      "_______________________________________\n",
      "            Independent t-test     results\n",
      "0  Difference (left - left) =       0.1148\n",
      "1        Degrees of freedom =   14997.0000\n",
      "2                         t =      16.6501\n",
      "3     Two side test p value =       0.0000\n",
      "4    Difference < 0 p value =       1.0000\n",
      "5    Difference > 0 p value =       0.0000\n",
      "6                 Cohen's d =       0.2720\n",
      "7                 Hedge's g =       0.2720\n",
      "8             Glass's delta =       0.2512\n",
      "9                         r =       0.1347\n"
     ]
    }
   ],
   "source": [
    "descriptives, results = rp.ttest(low, medium_and_high)\n",
    "print(descriptives)\n",
    "print('_______________________________________')\n",
    "print(results)"
   ]
  },
  {
   "cell_type": "markdown",
   "metadata": {},
   "source": [
    "Действительно среднее значение уволившихся с низкой зарплатой выше, чем со средней и высокой при примерно равных выборках."
   ]
  },
  {
   "cell_type": "markdown",
   "metadata": {},
   "source": [
    "2) Одной из возможных причин увольнения могло быть длительное отсутвие повышения."
   ]
  },
  {
   "cell_type": "code",
   "execution_count": 34,
   "metadata": {},
   "outputs": [
    {
     "name": "stdout",
     "output_type": "stream",
     "text": [
      "                Variable        N      Mean        SD        SE  95% Conf.  \\\n",
      "0  promotion_last_5years   7316.0  0.009021  0.094558  0.001106   0.006854   \n",
      "1  promotion_last_5years   7683.0  0.032930  0.178465  0.002036   0.028939   \n",
      "2               combined  14999.0  0.021268  0.144281  0.001178   0.018959   \n",
      "\n",
      "   Interval  \n",
      "0  0.011188  \n",
      "1  0.036921  \n",
      "2  0.023577  \n",
      "_______________________________________\n",
      "                                  Independent t-test     results\n",
      "0  Difference (promotion_last_5years - promotion_...     -0.0239\n",
      "1                              Degrees of freedom =   14997.0000\n",
      "2                                               t =     -10.1787\n",
      "3                           Two side test p value =       0.0000\n",
      "4                          Difference < 0 p value =       0.0000\n",
      "5                          Difference > 0 p value =       1.0000\n",
      "6                                       Cohen's d =      -0.1663\n",
      "7                                       Hedge's g =      -0.1663\n",
      "8                                   Glass's delta =      -0.2528\n",
      "9                                               r =       0.0828\n"
     ]
    }
   ],
   "source": [
    "low = hr[hr['salary']=='low'].promotion_last_5years\n",
    "medium_and_high = hr[(hr['salary']=='medium')|(hr['salary']=='high')].promotion_last_5years\n",
    "descriptives, results = rp.ttest(low, medium_and_high)\n",
    "print(descriptives)\n",
    "print('_______________________________________')\n",
    "print(results)"
   ]
  },
  {
   "cell_type": "markdown",
   "metadata": {},
   "source": [
    "Средняя повышений за последние 5 лет у сотрудников с низкой зарплатой значительно меньше, что подтверждает теорию."
   ]
  },
  {
   "cell_type": "markdown",
   "metadata": {},
   "source": [
    "3) у уволившихся сотрудников была низкая удовлетворенность работой"
   ]
  },
  {
   "cell_type": "code",
   "execution_count": 35,
   "metadata": {},
   "outputs": [],
   "source": [
    "left = hr[hr['left']==1].satisfaction_level\n",
    "stay = hr[hr['left']==0].satisfaction_level\n"
   ]
  },
  {
   "cell_type": "code",
   "execution_count": 36,
   "metadata": {},
   "outputs": [
    {
     "name": "stdout",
     "output_type": "stream",
     "text": [
      "             Variable        N      Mean        SD        SE  95% Conf.  \\\n",
      "0  satisfaction_level   3571.0  0.440098  0.263933  0.004417   0.431438   \n",
      "1  satisfaction_level  11428.0  0.666810  0.217104  0.002031   0.662829   \n",
      "2            combined  14999.0  0.612834  0.248631  0.002030   0.608854   \n",
      "\n",
      "   Interval  \n",
      "0  0.448758  \n",
      "1  0.670790  \n",
      "2  0.616813  \n",
      "_______________________________________\n",
      "                                  Independent t-test     results\n",
      "0  Difference (satisfaction_level - satisfaction_...     -0.2267\n",
      "1                              Degrees of freedom =   14997.0000\n",
      "2                                               t =     -51.6128\n",
      "3                           Two side test p value =       0.0000\n",
      "4                          Difference < 0 p value =       0.0000\n",
      "5                          Difference > 0 p value =       1.0000\n",
      "6                                       Cohen's d =      -0.9895\n",
      "7                                       Hedge's g =      -0.9894\n",
      "8                                   Glass's delta =      -0.8590\n",
      "9                                               r =       0.3884\n"
     ]
    }
   ],
   "source": [
    "descriptives, results = rp.ttest(left, stay)\n",
    "print(descriptives)\n",
    "print('_______________________________________')\n",
    "print(results)"
   ]
  },
  {
   "cell_type": "markdown",
   "metadata": {},
   "source": [
    "Несмотря на то, что средняя у уволившихся действительно ниже, у них также значительно меньше выборка."
   ]
  },
  {
   "cell_type": "markdown",
   "metadata": {},
   "source": [
    "Таким образом основные причины увольнения это низкая зарплата и отуствие повышения."
   ]
  },
  {
   "cell_type": "code",
   "execution_count": null,
   "metadata": {},
   "outputs": [],
   "source": []
  }
 ],
 "metadata": {
  "kernelspec": {
   "display_name": "Python 3",
   "language": "python",
   "name": "python3"
  },
  "language_info": {
   "codemirror_mode": {
    "name": "ipython",
    "version": 3
   },
   "file_extension": ".py",
   "mimetype": "text/x-python",
   "name": "python",
   "nbconvert_exporter": "python",
   "pygments_lexer": "ipython3",
   "version": "3.8.5"
  }
 },
 "nbformat": 4,
 "nbformat_minor": 2
}
