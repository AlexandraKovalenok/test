{
 "cells": [
  {
   "cell_type": "markdown",
   "metadata": {},
   "source": [
    "## Задание 1"
   ]
  },
  {
   "cell_type": "markdown",
   "metadata": {},
   "source": [
    "Дан список вида:"
   ]
  },
  {
   "cell_type": "code",
   "execution_count": 1,
   "metadata": {},
   "outputs": [],
   "source": [
    "data = [\n",
    "    [13, 25, 23, 34],\n",
    "    [45, 32, 44, 47],\n",
    "    [12, 33, 23, 95],\n",
    "    [13, 53, 34, 35]\n",
    "]"
   ]
  },
  {
   "cell_type": "markdown",
   "metadata": {},
   "source": [
    "Напишите функцию, которая возвращает сумму элементов на диагонали. Т. е. 13+32+23+35.  \n",
    "Список может быть любой длины, но всегда является \"квадратным\" (количество элементов во вложенных списках равно их количеству)."
   ]
  },
  {
   "cell_type": "code",
   "execution_count": 5,
   "metadata": {},
   "outputs": [],
   "source": [
    "def sum_diagonal_for_data_list():    \n",
    "    sum_ = 0\n",
    "    for list in data:\n",
    "        sum_ += list[data.index(list)]\n",
    "    return(sum_)\n",
    "\n",
    "def sum_diagonal_for_data_list_v2():    \n",
    "    sum_ = 0\n",
    "    index = 0\n",
    "    m_len = len(data)\n",
    "    while index < m_len:\n",
    "        sum_ += data[index][index]\n",
    "        index += 1\n",
    "    return(sum_)"
   ]
  },
  {
   "cell_type": "code",
   "execution_count": 6,
   "metadata": {},
   "outputs": [
    {
     "data": {
      "text/plain": [
       "103"
      ]
     },
     "execution_count": 6,
     "metadata": {},
     "output_type": "execute_result"
    }
   ],
   "source": [
    "sum_diagonal_for_data_list()"
   ]
  },
  {
   "cell_type": "code",
   "execution_count": 7,
   "metadata": {},
   "outputs": [
    {
     "data": {
      "text/plain": [
       "103"
      ]
     },
     "execution_count": 7,
     "metadata": {},
     "output_type": "execute_result"
    }
   ],
   "source": [
    "sum_diagonal_for_data_list_v2()"
   ]
  },
  {
   "cell_type": "markdown",
   "metadata": {},
   "source": [
    "## Задание 2"
   ]
  },
  {
   "cell_type": "markdown",
   "metadata": {},
   "source": [
    "Напишите функцию, возвращающую сумму первых n чисел Фибоначчи (для этого вам может понадобится ознакомиться с рекурсией)."
   ]
  },
  {
   "cell_type": "code",
   "execution_count": 23,
   "metadata": {},
   "outputs": [
    {
     "name": "stdout",
     "output_type": "stream",
     "text": [
      "Введите число: 3\n"
     ]
    },
    {
     "data": {
      "text/plain": [
       "4"
      ]
     },
     "execution_count": 23,
     "metadata": {},
     "output_type": "execute_result"
    }
   ],
   "source": [
    "def sum_Fibonachi(user_input):\n",
    "    user_input = int(input('Введите число: '))\n",
    "    sum_number = 0\n",
    "    Fibonachi = [0]\n",
    "    index = 0\n",
    "    while index <= (user_input-1):\n",
    "        if len(Fibonachi) < 2:\n",
    "            number = 1\n",
    "            sum_number += number\n",
    "            Fibonachi.append(number)\n",
    "        else:\n",
    "            number = Fibonachi[index] + Fibonachi[index-1]\n",
    "            sum_number += number\n",
    "            Fibonachi.append(number)\n",
    "        index += 1\n",
    "    return sum_number\n",
    "sum_Fibonachi(user_input)"
   ]
  },
  {
   "cell_type": "markdown",
   "metadata": {},
   "source": [
    "Вариант 2 с рекурсией, числа начинаются с 1"
   ]
  },
  {
   "cell_type": "code",
   "execution_count": 22,
   "metadata": {},
   "outputs": [
    {
     "name": "stdout",
     "output_type": "stream",
     "text": [
      "Введите число: 3\n"
     ]
    },
    {
     "data": {
      "text/plain": [
       "4"
      ]
     },
     "execution_count": 22,
     "metadata": {},
     "output_type": "execute_result"
    }
   ],
   "source": [
    "def fibonacci(n):\n",
    "    if n in (1, 2):\n",
    "        return 1\n",
    "    return fibonacci(n - 1) + fibonacci(n - 2)\n",
    "def sum_Fibonachi_2(number_amount):\n",
    "    number_amount = int(input('Введите число: '))\n",
    "    n = 1\n",
    "    sum_fib = 0\n",
    "    while n <= number_amount:\n",
    "        sum_fib += fibonacci(n)\n",
    "        n += 1\n",
    "    return sum_fib\n",
    "sum_Fibonachi_2(number_amount)"
   ]
  },
  {
   "cell_type": "markdown",
   "metadata": {},
   "source": [
    "Задание 3\n"
   ]
  },
  {
   "cell_type": "markdown",
   "metadata": {},
   "source": [
    "Напишите функцию, преобразующую произвольный список вида ['2018-01-01', 'yandex', 'cpc', 100] (он может быть любой длины) в словарь {'2018-01-01': {'yandex': {'cpc': 100}}}"
   ]
  },
  {
   "cell_type": "code",
   "execution_count": 16,
   "metadata": {},
   "outputs": [
    {
     "data": {
      "text/plain": [
       "{'2018-01-01': {'yandex': {'cpc': 100}}}"
      ]
     },
     "execution_count": 16,
     "metadata": {},
     "output_type": "execute_result"
    }
   ],
   "source": [
    "list = ['2018-01-01', 'yandex', 'cpc', 100]\n",
    "def list_to_dict():\n",
    "    dic = {}\n",
    "    index = len(list) - 1\n",
    "    while index > 0:\n",
    "        if len(dic) == 0:\n",
    "            dic[list[index-1]] = list[index]\n",
    "        else:\n",
    "            dic[list[index-1]] = {list[index]: dic[list[index]]}\n",
    "        index -= 1   \n",
    "    return ({list[index]: dic[list[index]]})\n",
    "list_to_dict()"
   ]
  },
  {
   "cell_type": "markdown",
   "metadata": {},
   "source": [
    "Задание 4"
   ]
  },
  {
   "cell_type": "markdown",
   "metadata": {},
   "source": [
    "Вы работаете секретарем и вам постоянно приходят различные документы. Вы должны быть очень внимательны, чтобы не потерять ни один документ. Каталог документов хранится в следующем виде:"
   ]
  },
  {
   "cell_type": "code",
   "execution_count": 10,
   "metadata": {},
   "outputs": [],
   "source": [
    "documents = [\n",
    "    {'type': 'passport', 'number': '2207 876234', 'name': 'Василий Гупкин'},\n",
    "    {'type': 'invoice', 'number': '11-2', 'name': 'Геннадий Покемонов'},\n",
    "    {'type': 'insurance', 'number': '10006', 'name': 'Аристарх Павлов'}\n",
    "]"
   ]
  },
  {
   "cell_type": "markdown",
   "metadata": {},
   "source": [
    "Перечень полок, на которых находятся документы хранится в следующем виде:"
   ]
  },
  {
   "cell_type": "code",
   "execution_count": 11,
   "metadata": {},
   "outputs": [],
   "source": [
    "directories = {\n",
    "    '1': ['2207 876234', '11-2', '5455 028765'],\n",
    "    '2': ['10006', '5400 028765', '5455 002299'],\n",
    "    '3': []\n",
    "}"
   ]
  },
  {
   "cell_type": "markdown",
   "metadata": {},
   "source": [
    "Необходимо реализовать пользовательские команды (внимание! это не название функций, которые должны быть выразительными, а команды, которые вводит пользователь, чтобы получить необходимый результат):\n",
    "  \n",
    "- p – people – команда, которая спросит номер документа и выведет имя человека, которому он принадлежит;  \n",
    "- s – shelf – команда, которая спросит номер документа и выведет номер полки, на которой он находится  \n",
    "Правильно обработайте ситуацию, когда пользователь будет вводить несуществующий документ.\n",
    "- l – list – команда, которая выведет список всех документов в формате   \n",
    "**passport \"2207 876234\" \"Василий Гупкин\"**  \n",
    "- as – add shelf – команда, которая спросит номер новой полки и добавит ее в перечень\n",
    "- d – delete – команда, которая спросит номер документа и удалит его из каталога и из перечня полок. Предусмотрите сценарий, когда пользователь вводит несуществующий документ;  \n",
    "- m – move – команда, которая спросит номер документа и целевую полку и переместит его с текущей полки на целевую. Корректно обработайте кейсы, когда пользователь пытается переместить несуществующий документ или переместить документ на несуществующую полку;  \n",
    "- a – add – команда, которая добавит новый документ в каталог и в перечень полок, спросив его номер, тип, имя владельца и номер полки, на котором он будет храниться."
   ]
  },
  {
   "cell_type": "code",
   "execution_count": 13,
   "metadata": {},
   "outputs": [
    {
     "name": "stdout",
     "output_type": "stream",
     "text": [
      "Введите команду:p\n",
      "Введите номер документа: 10006\n"
     ]
    },
    {
     "data": {
      "text/plain": [
       "{'Аристарх Павлов'}"
      ]
     },
     "execution_count": 13,
     "metadata": {},
     "output_type": "execute_result"
    }
   ],
   "source": [
    "def user_programms():\n",
    "    user_programm = input('Введите команду:')\n",
    "    programms = {'p': people, 's': shelf, 'l': l, 'as': add_shell, 'd': delete, 'm': move, 'a': add}\n",
    "    return programms[user_programm]()\n",
    "user_programms()"
   ]
  },
  {
   "cell_type": "code",
   "execution_count": null,
   "metadata": {},
   "outputs": [],
   "source": []
  },
  {
   "cell_type": "code",
   "execution_count": 1,
   "metadata": {},
   "outputs": [],
   "source": [
    "def people():\n",
    "    user_input = input('Введите номер документа: ')\n",
    "    name_set = set()\n",
    "    for dic in documents:\n",
    "        if dic['number'] == user_input:\n",
    "            name_set.add(dic['name'])\n",
    "    if len(name_set) > 0:\n",
    "        result = name_set\n",
    "    else:\n",
    "        result = ('Такого документа не существует')\n",
    "    return(result)\n"
   ]
  },
  {
   "cell_type": "code",
   "execution_count": 2,
   "metadata": {},
   "outputs": [],
   "source": [
    "def shelf():\n",
    "    user_input = input('Введите номер документа: ')\n",
    "    answer = set()\n",
    "    for directory in directories.items():\n",
    "        for number in directory[1]:\n",
    "            if number == user_input:\n",
    "                answer.add(directory[0])\n",
    "    if len(answer) == 0:\n",
    "        print('Документ №' + ' ' + user_input + ' ' + 'не найден')\n",
    "    else:\n",
    "        return ('Документ находится на полке №' + ' ' + str(answer))\n"
   ]
  },
  {
   "cell_type": "code",
   "execution_count": 3,
   "metadata": {},
   "outputs": [],
   "source": [
    "def l():\n",
    "    for dictionery in documents:\n",
    "        print(dictionery['type'] + ' ' + '\"' + dictionery['number'] + '\"'+ ' ' + '\"' + dictionery['name'] + '\"')"
   ]
  },
  {
   "cell_type": "code",
   "execution_count": 4,
   "metadata": {},
   "outputs": [],
   "source": [
    "def add_shell():\n",
    "    user_input = input('Введите номер новой полки: ')\n",
    "    shells_final = set() \n",
    "    for key in directories.keys():\n",
    "        if user_input != key:\n",
    "            shells_final.add(key)\n",
    "    if len(shells_final) == len(directories.keys()):\n",
    "            directories[user_input] = []\n",
    "            print('Полка № ' + user_input + ' ' + 'добавлена')\n",
    "    else:\n",
    "        print('Полка №' + ' ' + user_input + ' ' + 'уже существует')\n"
   ]
  },
  {
   "cell_type": "code",
   "execution_count": 5,
   "metadata": {},
   "outputs": [
    {
     "name": "stdout",
     "output_type": "stream",
     "text": [
      "Введите номер документа: 123\n"
     ]
    }
   ],
   "source": [
    "def check_document(document_number):\n",
    "    check_in_documents = set()\n",
    "    check_in_directories = set()\n",
    "    for dic in documents:\n",
    "        try: \n",
    "            if dic['number'] == document_number:\n",
    "                check_in_documents.add(dic['name'])\n",
    "        except:\n",
    "            continue\n",
    "    for value in directories.values():\n",
    "        for number in value:\n",
    "            if number == document_number:\n",
    "                check_in_directories.add(number)\n",
    "    if len(check_in_documents) > 0 and len(check_in_directories) > 0:\n",
    "        return True\n",
    "    elif len(check_in_documents) > 0 and len(check_in_directories) == 0:\n",
    "        return ('Есть в документах')\n",
    "    elif len(check_in_documents) == 0 and len(check_in_directories) > 0:\n",
    "        return ('Есть на полке')\n",
    "    elif len(check_in_documents) == 0 and len(check_in_directories) == 0:\n",
    "        return False\n",
    "user_input = input('Введите номер документа: ')"
   ]
  },
  {
   "cell_type": "code",
   "execution_count": 6,
   "metadata": {},
   "outputs": [],
   "source": [
    "def delete():\n",
    "    user_input = input('Введите номер документа: ')\n",
    "    if check_document(user_input) == False:\n",
    "        print('Такого документа не существует')\n",
    "    else:\n",
    "        for dic in documents:\n",
    "            if dic['number'] == user_input:\n",
    "                dic.clear()\n",
    "        for directory in directories.items():\n",
    "            index = len(directory[1])-1\n",
    "            while index >= 0:\n",
    "                if directory[1][index] == user_input:\n",
    "                    del(directory[1][index])\n",
    "                index -= 1\n",
    "        print('Документ удален')"
   ]
  },
  {
   "cell_type": "code",
   "execution_count": 7,
   "metadata": {},
   "outputs": [],
   "source": [
    "def move():\n",
    "    user_input_doc = input('Введите номер документа: ')\n",
    "    user_input_shell = input('Введите номер полки: ')\n",
    "    check_document_result = check_document(user_input_doc)\n",
    "    if not check_document_result or check_document_result == 'Есть в документах':\n",
    "        print('Такого документа на полках нет')\n",
    "        return\n",
    "    if not user_input_shell in directories:\n",
    "        print('Такой полки не существует')\n",
    "        return\n",
    "    \n",
    "    for directory in directories.items():\n",
    "        index = 0\n",
    "        while index < len(directory[1]):\n",
    "            if directory[1][index] == user_input_doc:\n",
    "                del(directory[1][index])\n",
    "            index += 1\n",
    "    directories[user_input_shell].append(user_input_doc)\n",
    "    print('Документ № ' + user_input_doc + ' ' + 'перемещен на полку № ' + user_input_shell)\n"
   ]
  },
  {
   "cell_type": "code",
   "execution_count": 8,
   "metadata": {},
   "outputs": [],
   "source": [
    "def add():\n",
    "    user_type = input('Введите тип документа: ')\n",
    "    user_number = input('Введите номер документа: ')\n",
    "    if check_document(user_number):\n",
    "        print('Такой документ уже существует')\n",
    "        return\n",
    "    user_name = input('Введите имя владельца: ')\n",
    "    user_shell = input('Введите номер полки: ')\n",
    "    if not user_shell in directories:\n",
    "        print('Такой полки не существует')\n",
    "        return\n",
    "    new_doc = {\n",
    "        'type': user_type,'number': user_number, 'name': user_name\n",
    "    }\n",
    "    if not check_document(new_doc['number']) or check_document(new_doc['number']) == ('Есть в документах'):\n",
    "        directories[user_shell].append(new_doc['number'])\n",
    "    if not check_document(new_doc['number']) or check_document(new_doc['number']) == ('Есть на полке'):\n",
    "         documents.append(new_doc)\n",
    "    print('Документ добавлен')    \n",
    "    "
   ]
  },
  {
   "cell_type": "code",
   "execution_count": null,
   "metadata": {},
   "outputs": [],
   "source": []
  },
  {
   "cell_type": "code",
   "execution_count": null,
   "metadata": {},
   "outputs": [],
   "source": []
  }
 ],
 "metadata": {
  "kernelspec": {
   "display_name": "Python 3",
   "language": "python",
   "name": "python3"
  },
  "language_info": {
   "codemirror_mode": {
    "name": "ipython",
    "version": 3
   },
   "file_extension": ".py",
   "mimetype": "text/x-python",
   "name": "python",
   "nbconvert_exporter": "python",
   "pygments_lexer": "ipython3",
   "version": "3.7.4"
  }
 },
 "nbformat": 4,
 "nbformat_minor": 2
}
