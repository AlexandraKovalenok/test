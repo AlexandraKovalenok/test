{
 "cells": [
  {
   "cell_type": "markdown",
   "metadata": {},
   "source": [
    "**Задание 1**. Даны 2 строки: *long_phrase* и *short_phrase*. \n",
    "Напишите код, который проверяет действительно ли длинная фраза *long_phrase* длиннее короткой *short_phrase*. И выводит *True* или *False* в зависимости от результата сравнения."
   ]
  },
  {
   "cell_type": "code",
   "execution_count": 1,
   "metadata": {},
   "outputs": [
    {
     "name": "stdout",
     "output_type": "stream",
     "text": [
      "True\n"
     ]
    }
   ],
   "source": [
    "long_phrase = 'Насколько проще было бы писать программы, если бы не заказчики'\n",
    "short_phrase = '640Кб должно хватить для любых задач. Билл Гейтс (по легенде)'\n",
    "if long_phrase > short_phrase:\n",
    "    print('True')\n",
    "else:\n",
    "    print('False')"
   ]
  },
  {
   "cell_type": "markdown",
   "metadata": {},
   "source": [
    "**Задание 2**. Дано значение объема файла в байтах. Напишите перевод этого значения в мегабайты в формате: \"*Объем файла равен 213.68Mb*\""
   ]
  },
  {
   "cell_type": "code",
   "execution_count": 2,
   "metadata": {},
   "outputs": [
    {
     "name": "stdout",
     "output_type": "stream",
     "text": [
      "Объем файла равен 213.68 Mb\n"
     ]
    }
   ],
   "source": [
    "file_b = 213680000\n",
    "file_Mb = file_b / 1000000\n",
    "print('Объем файла равен',file_Mb,'Mb')"
   ]
  },
  {
   "cell_type": "markdown",
   "metadata": {},
   "source": [
    "**Задание 3**. Разработать приложение для определения знака зодиака по дате рождения. Пример:\n",
    "\n",
    "Введите месяц: март\n",
    "\n",
    "Введите число: 6\n",
    "\n",
    "Вывод:\n",
    "Рыбы"
   ]
  },
  {
   "cell_type": "code",
   "execution_count": 6,
   "metadata": {},
   "outputs": [
    {
     "name": "stdout",
     "output_type": "stream",
     "text": [
      "Введите месяц: август\n",
      "Введите число: 26\n",
      "Дева\n"
     ]
    }
   ],
   "source": [
    "user_month = input('Введите месяц: ')\n",
    "user_day = int(input('Введите число: '))\n",
    "if ((user_month == 'март') and (21 <= user_day <= 31)) or ((user_month == 'апрель') and (1 <= user_day <= 19)):\n",
    "    print ('Овен')\n",
    "elif ((user_month == 'апрель') and (20 <= user_day <= 30)) or ((user_month == 'май') and (1 <= user_day <= 20)):\n",
    "    print ('Телец')\n",
    "elif ((user_month == 'май') and (21 <= user_day <= 31)) or ((user_month == 'июнь') and (1 <= user_day <= 21)):\n",
    "    print ('Близнецы')\n",
    "elif ((user_month == 'июнь') and (22 <= user_day <= 30)) or ((user_month == 'июль') and (1 <= user_day <= 22)):\n",
    "    print ('Рак')\n",
    "elif ((user_month == 'июль') and (23 <= user_day <= 31)) or ((user_month == 'август') and (1 <= user_day <= 22)):\n",
    "    print ('Лев')\n",
    "elif ((user_month == 'август') and (23 <= user_day <= 31)) or ((user_month == 'сентябрь') and (1 <= user_day <= 22)):\n",
    "    print ('Дева')\n",
    "elif ((user_month == 'сентябрь') and (23 <= user_day <= 30)) or ((user_month == 'октябрь') and (1 <= user_day <= 23)):\n",
    "    print ('Весы')\n",
    "elif ((user_month == 'октябрь') and (24 <= user_day <= 31)) or ((user_month == 'ноябрь') and (1 <= user_day <= 22)):\n",
    "    print ('Скорпион')\n",
    "elif ((user_month == 'ноябрь') and (23 <= user_day <= 30)) or ((user_month == 'декабрь') and (1 <= user_day <= 21)):\n",
    "    print ('Стрелец')\n",
    "elif ((user_month == 'декабрь') and (22 <= user_day <= 31)) or ((user_month == 'январь') and (1 <= user_day <= 20)):\n",
    "    print ('Козерог')\n",
    "elif ((user_month == 'январь') and (21 <= user_day <= 31)) or ((user_month == 'февраль') and (1 <= user_day <= 18)):\n",
    "    print ('Водолей')\n",
    "elif ((user_month == 'февраль') and (19 <= user_day <= 29)) or ((user_month == 'март') and (1 <= user_day <= 20)):\n",
    "    print ('Рыбы')"
   ]
  },
  {
   "cell_type": "markdown",
   "metadata": {},
   "source": [
    "**Задание 4**. Нужно разработать приложение для финансового планирования.\n",
    "Приложение учитывает сколько уходит на ипотеку, \"на жизнь\" и сколько нужно отложить на пенсию.\n",
    "Пользователь вводит:\n",
    "- заработанную плату в месяц.\n",
    "- сколько процентов от ЗП уходит на ипотеку.\n",
    "- сколько процентов от ЗП уходит \"на жизнь\".\n",
    "- сколько раз приходит премия в год.\n",
    "\n",
    "Остальная часть заработанной платы откладывается на пенсию.\n",
    "\n",
    "Также пользователю приходит премия в размере зарплаты, от которой половина уходит на отпуск, а вторая половина откладывается.\n",
    "\n",
    "Программа должна учитывать сколько премий было в год.\n",
    "\n",
    "Нужно вывести сколько денег тратит пользователь на ипотеку и сколько он накопит за год.\n",
    "\n",
    "Пример:\n",
    "\n",
    "Введите заработанную плату в месяц: 100000\n",
    "\n",
    "Введите сколько процентов уходит на ипотеку: 30\n",
    "\n",
    "Введите сколько процентов уходит на жизнь: 50\n",
    "\n",
    "Введите количество премий за год: 2\n",
    "\n",
    "Вывод:\n",
    "На ипотеку было потрачено: 360000 рублей\n",
    "Было накоплено: 340000 рублей"
   ]
  },
  {
   "cell_type": "code",
   "execution_count": 11,
   "metadata": {},
   "outputs": [
    {
     "name": "stdout",
     "output_type": "stream",
     "text": [
      "Введите заработную плату в месяц: 100000\n",
      "Введите сколько процентов уходит на ипотеку: 30\n",
      "Введите сколько процентов уходит на жизнь: 50\n",
      "Введите количество премий за год: 2\n",
      "На ипотеку было потрачено:  360000.0 рублей Было накоплено:  340000.0 рублей\n"
     ]
    }
   ],
   "source": [
    "user_salary = int(input('Введите заработную плату в месяц: '))\n",
    "user_mortgage = int(input('Введите сколько процентов уходит на ипотеку: '))\n",
    "user_spending = int(input('Введите сколько процентов уходит на жизнь: '))\n",
    "user_bonus = int(input('Введите количество премий за год: '))\n",
    "amount_mortgage = user_salary * (user_mortgage / 100) * 12\n",
    "amount_spending = user_salary * (user_spending / 100) * 12\n",
    "amount_pension = ((user_bonus * user_salary) / 2) + ((user_salary * 12) - amount_mortgage - amount_spending)\n",
    "print ('На ипотеку было потрачено: ',amount_mortgage,'рублей','Было накоплено: ',amount_pension,'рублей')"
   ]
  },
  {
   "cell_type": "code",
   "execution_count": null,
   "metadata": {},
   "outputs": [],
   "source": []
  }
 ],
 "metadata": {
  "kernelspec": {
   "display_name": "Python 3",
   "language": "python",
   "name": "python3"
  },
  "language_info": {
   "codemirror_mode": {
    "name": "ipython",
    "version": 3
   },
   "file_extension": ".py",
   "mimetype": "text/x-python",
   "name": "python",
   "nbconvert_exporter": "python",
   "pygments_lexer": "ipython3",
   "version": "3.7.4"
  }
 },
 "nbformat": 4,
 "nbformat_minor": 2
}
